{
 "cells": [
  {
   "cell_type": "markdown",
   "metadata": {},
   "source": [
    "# EDA: Amazon India (2015–2025)\n",
    "\n",
    "This notebook performs exploratory data analysis on the cleaned CSVs under `data/cleaned/`.\n",
    "It covers yearly revenue trends, seasonality, RFM segmentation, payment mix evolution,\n",
    "category performance, Prime impact, geographic summaries, price vs demand, and delivery performance."
   ]
  },
  {
   "cell_type": "code",
   "execution_count": null,
   "metadata": {},
   "outputs": [],
   "source": [
    "import os, sys\n",
    "from pathlib import Path\n",
    "import numpy as np\n",
    "import pandas as pd\n",
    "import matplotlib.pyplot as plt\n",
    "import seaborn as sns\n",
    "\n",
    "# Plot styling\n",
    "sns.set(style='whitegrid', palette='tab10')\n",
    "plt.rcParams['figure.figsize'] = (8, 4)\n",
    "\n",
    "def find_root(start=None):\n",
    "    p = Path(start or os.getcwd()).resolve()\n",
    "    for _ in range(8):\n",
    "        if (p / 'pyproject.toml').exists() or ((p/'src').exists() and (p/'data').exists()):\n",
    "            return str(p)\n",
    "        p = p.parent\n",
    "    return str(Path(start or os.getcwd()).resolve())\n",
    "\n",
    "ROOT = find_root()\n",
    "SRC = os.path.join(ROOT, 'src')\n",
    "if SRC not in sys.path: sys.path.insert(0, SRC)\n",
    "print('PROJECT_ROOT =', ROOT)\n"
   ]
  },
  {
   "cell_type": "code",
   "execution_count": null,
   "metadata": {},
   "outputs": [],
   "source": [
    "# Load all cleaned CSVs\n",
    "from pathlib import Path\n",
    "cleaned_dir = os.path.join(ROOT, 'data', 'cleaned')\n",
    "if not os.path.isdir(cleaned_dir):\n",
    "    # Try fallback to ROOT/data or search upwards for data/cleaned\n",
    "    alt = os.path.join(ROOT, 'data')\n",
    "    if os.path.isdir(alt):\n",
    "        cleaned_dir = alt\n",
    "    else:\n",
    "        p = Path(os.getcwd()).resolve()\n",
    "        found = None\n",
    "        for _ in range(8):\n",
    "            cand = p / 'data' / 'cleaned'\n",
    "            if cand.is_dir():\n",
    "                found = str(cand)\n",
    "                break\n",
    "            p = p.parent\n",
    "        if found:\n",
    "            cleaned_dir = found\n",
    "        else:\n",
    "            raise FileNotFoundError(f'Could not find cleaned dir under {ROOT}; checked {alt} and ancestors.')\n",
    "frames = []\n",
    "for name in sorted(os.listdir(cleaned_dir)):\n",
    "    if name.lower().endswith('.csv'):\n",
    "        p = os.path.join(cleaned_dir, name)\n",
    "        try:\n",
    "            df_part = pd.read_csv(p)\n",
    "            df_part['__source_file__'] = name\n",
    "            frames.append(df_part)\n",
    "        except Exception as e:\n",
    "            print('Skip', name, '->', e)\n",
    "\n",
    "df = pd.concat(frames, ignore_index=True) if frames else pd.DataFrame()\n",
    "print('Using cleaned_dir =', cleaned_dir)\n",
    "print('Rows:', len(df), 'Cols:', list(df.columns)[:10], '...')\n"
   ]
  },
  {
   "cell_type": "code",
   "execution_count": null,
   "metadata": {},
   "outputs": [],
   "source": [
    "# Column detection helpers\n",
    "DATE_CANDIDATES = ['order_date','date','orderDate','Order Date','order_dt']\n",
    "REVENUE_CANDIDATES = ['total_amount','original_price_inr','revenue','amount','total','grand_total']\n",
    "QUANTITY_CANDIDATES = ['quantity','qty','units']\n",
    "CUSTOMER_CANDIDATES = ['customer_id','cust_id','user_id']\n",
    "CATEGORY_CANDIDATES = ['category','Category']\n",
    "PAYMENT_CANDIDATES = ['payment_method','payment','paymentType']\n",
    "CITY_CANDIDATES = ['customer_city','city']\n",
    "STATE_CANDIDATES = ['state','customer_state']\n",
    "PRIME_CANDIDATES = ['is_prime_member','prime','isPrime']\n",
    "RATING_CANDIDATES = ['customer_rating','rating','ratings']\n",
    "DELIVERY_CANDIDATES = ['delivery_days','deliveryDays']\n",
    "BRAND_CANDIDATES = ['brand','Brand']\n",
    "\n",
    "def pick_col(df, candidates):\n",
    "    for c in candidates:\n",
    "        if c in df.columns:\n",
    "            return c\n",
    "    return None\n",
    "\n",
    "def coerce_date(series: pd.Series) -> pd.Series:\n",
    "    s = series.astype('string')\n",
    "    fmts = ['%Y-%m-%d','%d/%m/%Y','%d-%m-%y','%d-%m-%Y','%m/%d/%Y']\n",
    "    parsed = pd.Series(pd.NaT, index=s.index, dtype='datetime64[ns]')\n",
    "    mask = parsed.isna()\n",
    "    for fmt in fmts:\n",
    "        if not mask.any():\n",
    "            break\n",
    "        rem = s[mask]\n",
    "        p = pd.to_datetime(rem, errors='coerce', format=fmt)\n",
    "        good = p.notna()\n",
    "        if good.any():\n",
    "            parsed.loc[good.index[good]] = p[good]\n",
    "            mask = parsed.isna()\n",
    "    if mask.any():\n",
    "        rem = s[mask]\n",
    "        p = pd.to_datetime(rem, errors='coerce')\n",
    "        good = p.notna()\n",
    "        if good.any():\n",
    "            parsed.loc[good.index[good]] = p[good]\n",
    "    return parsed\n",
    "\n",
    "date_col = pick_col(df, DATE_CANDIDATES)\n",
    "revenue_col = pick_col(df, REVENUE_CANDIDATES)\n",
    "customer_col = pick_col(df, CUSTOMER_CANDIDATES)\n",
    "category_col = pick_col(df, CATEGORY_CANDIDATES)\n",
    "payment_col = pick_col(df, PAYMENT_CANDIDATES)\n",
    "city_col = pick_col(df, CITY_CANDIDATES)\n",
    "state_col = pick_col(df, STATE_CANDIDATES)\n",
    "prime_col = pick_col(df, PRIME_CANDIDATES)\n",
    "rating_col = pick_col(df, RATING_CANDIDATES)\n",
    "quantity_col = pick_col(df, QUANTITY_CANDIDATES)\n",
    "brand_col = pick_col(df, BRAND_CANDIDATES)\n",
    "\n",
    "print('Detected columns:')\n",
    "for k,v in [('date',date_col),('revenue',revenue_col),('customer',customer_col),('category',category_col),('payment',payment_col),('city',city_col),('state',state_col),('prime',prime_col),('rating',rating_col),('quantity',quantity_col),('brand',brand_col)]:\n",
    "    print(f' - {k}:', v)\n",
    "\n",
    "# Ensure revenue numeric\n",
    "if revenue_col: df[revenue_col] = pd.to_numeric(df[revenue_col], errors='coerce')\n"
   ]
  },
  {
   "cell_type": "markdown",
   "metadata": {},
   "source": [
    "## 1) Yearly Revenue Trend"
   ]
  },
  {
   "cell_type": "code",
   "execution_count": null,
   "metadata": {},
   "outputs": [],
   "source": [
    "if date_col and revenue_col and not df.empty:\n",
    "    dt = coerce_date(df[date_col])\n",
    "    d = df.copy(); d['year'] = dt.dt.year\n",
    "    rev = d.groupby('year')[revenue_col].sum().reset_index()\n",
    "    rev = rev[(rev['year']>=2015)&(rev['year']<=2025)]\n",
    "    rev['pct_growth'] = rev[revenue_col].pct_change()*100\n",
    "    if len(rev) >= 2:\n",
    "        z = np.polyfit(rev['year'], rev[revenue_col], 1)\n",
    "        p = np.poly1d(z)\n",
    "        rev['trend'] = p(rev['year'])\n",
    "    ax = sns.lineplot(data=rev, x='year', y=revenue_col, marker='o', label='Revenue')\n",
    "    if 'trend' in rev.columns:\n",
    "        sns.lineplot(data=rev, x='year', y='trend', linestyle='--', label='Trend', ax=ax)\n",
    "    plt.title('Yearly Revenue (2015–2025)')\n",
    "    plt.show()\n",
    "    rev.head()\n"
   ]
  },
  {
   "cell_type": "markdown",
   "metadata": {},
   "source": [
    "## 2) Seasonality: Monthly Heatmap and Category Comparison"
   ]
  },
  {
   "cell_type": "code",
   "execution_count": null,
   "metadata": {},
   "outputs": [],
   "source": [
    "if date_col and revenue_col and not df.empty:\n",
    "    dt = coerce_date(df[date_col])\n",
    "    t = df.copy(); t['year'] = dt.dt.year; t['month'] = dt.dt.month\n",
    "    pivot = t.pivot_table(index='year', columns='month', values=revenue_col, aggfunc='sum', fill_value=0)\n",
    "    sns.heatmap(pivot, cmap='YlGnBu'); plt.title('Monthly Sales Heatmap'); plt.show()\n",
    "    pivot.head()\n",
    "    if category_col and category_col in df.columns:\n",
    "        cat = t.pivot_table(index='month', columns=category_col, values=revenue_col, aggfunc='sum', fill_value=0)\n",
    "        cat.plot(); plt.title('Monthly Seasonality by Category'); plt.xlabel('Month'); plt.ylabel('Revenue'); plt.show()\n",
    "        cat.head()\n"
   ]
  },
  {
   "cell_type": "markdown",
   "metadata": {},
   "source": [
    "## 3) RFM Segmentation"
   ]
  },
  {
   "cell_type": "code",
   "execution_count": null,
   "metadata": {},
   "outputs": [],
   "source": [
    "if date_col and customer_col and revenue_col and not df.empty:\n",
    "    d = df[[date_col, revenue_col, customer_col]].dropna().copy()\n",
    "    d[date_col] = coerce_date(d[date_col])\n",
    "    ref = d[date_col].max()\n",
    "    grp = d.groupby(customer_col)\n",
    "    R = grp[date_col].max().apply(lambda x: (ref - pd.to_datetime(x)).days if pd.notna(x) else np.nan)\n",
    "    F = grp[date_col].count()\n",
    "    M = grp[revenue_col].sum()\n",
    "    rfm = pd.DataFrame({'R':R,'F':F,'M':M}).replace([np.inf,-np.inf],np.nan).dropna()\n",
    "    def qscores(s, buckets=5, reverse=False):\n",
    "        ranks = s.rank(pct=True, method='first')\n",
    "        if reverse: ranks = 1 - ranks\n",
    "        return np.ceil(ranks*buckets).astype(int).clip(1,buckets)\n",
    "    rfm['R_score'] = qscores(rfm['R'], reverse=True)\n",
    "    rfm['F_score'] = qscores(rfm['F'])\n",
    "    rfm['M_score'] = qscores(rfm['M'])\n",
    "    plt.scatter(rfm['F'], rfm['M'], c=rfm['R'], cmap='viridis', alpha=0.6)\n",
    "    plt.colorbar(label='Recency (days)'); plt.xlabel('Frequency'); plt.ylabel('Monetary'); plt.title('RFM Scatter'); plt.show()\n",
    "    rfm.head()\n"
   ]
  },
  {
   "cell_type": "markdown",
   "metadata": {},
   "source": [
    "## 4) Payment Method Evolution"
   ]
  },
  {
   "cell_type": "code",
   "execution_count": null,
   "metadata": {},
   "outputs": [],
   "source": [
    "if date_col and payment_col and revenue_col and not df.empty:\n",
    "    dt = coerce_date(df[date_col])\n",
    "    t = df.copy(); t['year'] = dt.dt.year\n",
    "    mix = t.groupby(['year', payment_col])[revenue_col].sum().reset_index()\n",
    "    total = mix.groupby('year')[revenue_col].transform('sum')\n",
    "    mix['share'] = mix[revenue_col]/total\n",
    "    piv = mix.pivot(index='year', columns=payment_col, values='share').fillna(0)\n",
    "    piv.plot(kind='area', stacked=True, colormap='tab20'); plt.title('Payment Method Share Over Time'); plt.ylabel('Share'); plt.show()\n",
    "    mix.head()\n"
   ]
  },
  {
   "cell_type": "markdown",
   "metadata": {},
   "source": [
    "## 5) Category Performance"
   ]
  },
  {
   "cell_type": "code",
   "execution_count": null,
   "metadata": {},
   "outputs": [],
   "source": [
    "if date_col and category_col and revenue_col and not df.empty:\n",
    "    dt = coerce_date(df[date_col])\n",
    "    t = df.copy(); t['year'] = dt.dt.year\n",
    "    agg = t.groupby(['year', category_col])[revenue_col].sum().reset_index()\n",
    "    latest = int(agg['year'].max()) if not agg.empty else None\n",
    "    if latest is not None:\n",
    "        cur = agg[agg['year']==latest].sort_values(revenue_col, ascending=False)\n",
    "        sns.barplot(data=cur, x=revenue_col, y=category_col); plt.title(f'Category Revenue - {latest}'); plt.show()\n",
    "        agg.head()\n"
   ]
  },
  {
   "cell_type": "markdown",
   "metadata": {},
   "source": [
    "## 6) Prime Impact"
   ]
  },
  {
   "cell_type": "code",
   "execution_count": null,
   "metadata": {},
   "outputs": [],
   "source": [
    "if date_col and prime_col and revenue_col and not df.empty:\n",
    "    t = df.copy(); t['prime'] = t[prime_col].astype('boolean')\n",
    "    aov = t.groupby('prime')[revenue_col].mean().reset_index()\n",
    "    sns.barplot(data=aov, x='prime', y=revenue_col); plt.title('Average Order Value by Prime'); plt.show()\n",
    "    if customer_col and customer_col in t.columns:\n",
    "        orders = t.groupby([customer_col, 'prime']).size().reset_index(name='orders')\n",
    "        freq = orders.groupby('prime')['orders'].mean().reset_index()\n",
    "        sns.barplot(data=freq, x='prime', y='orders'); plt.title('Avg Orders per Customer by Prime'); plt.show()\n",
    "    aov.head()\n"
   ]
  },
  {
   "cell_type": "markdown",
   "metadata": {},
   "source": [
    "## 7) Geographic (Top Cities)"
   ]
  },
  {
   "cell_type": "code",
   "execution_count": null,
   "metadata": {},
   "outputs": [],
   "source": [
    "if city_col and revenue_col and not df.empty:\n",
    "    top = df.groupby(city_col)[revenue_col].sum().reset_index().sort_values(revenue_col, ascending=False).head(20)\n",
    "    sns.barplot(data=top, x=revenue_col, y=city_col); plt.title('Top Cities by Revenue'); plt.show()\n",
    "    top.head()\n"
   ]
  },
  {
   "cell_type": "markdown",
   "metadata": {},
   "source": [
    "## 10) Price vs Demand and Correlation"
   ]
  },
  {
   "cell_type": "code",
   "execution_count": null,
   "metadata": {},
   "outputs": [],
   "source": [
    "if revenue_col and quantity_col and not df.empty:\n",
    "    price_col = 'unit_price' if 'unit_price' in df.columns else revenue_col\n",
    "    sns.scatterplot(data=df, x=price_col, y=quantity_col, hue=category_col if category_col in df.columns else None, alpha=0.3)\n",
    "    plt.title('Price vs Demand'); plt.show()\n",
    "    cols = [c for c in [price_col, quantity_col] if c in df.columns]\n",
    "    if len(cols)>=2:\n",
    "        corr = df[cols].corr()\n",
    "        sns.heatmap(corr, annot=True, vmin=-1, vmax=1, cmap='coolwarm'); plt.title('Correlation'); plt.show()\n",
    "        corr\n"
   ]
  },
  {
   "cell_type": "markdown",
   "metadata": {},
   "source": [
    "## 11) Delivery Performance"
   ]
  },
  {
   "cell_type": "code",
   "execution_count": null,
   "metadata": {},
   "outputs": [],
   "source": [
    "if 'delivery_days' in df.columns:\n",
    "    sns.histplot(df['delivery_days'].dropna(), bins=30); plt.title('Delivery Days Distribution'); plt.show()\n",
    "    if rating_col and rating_col in df.columns:\n",
    "        sns.scatterplot(data=df, x='delivery_days', y=rating_col, alpha=0.3); plt.title('Delivery vs Rating'); plt.show()\n"
   ]
  }
 ],
 "metadata": {
  "kernelspec": {
   "display_name": "Python 3",
   "language": "python",
   "name": "python3"
  },
  "language_info": {
   "name": "python",
   "version": "3"
  }
 },
 "nbformat": 4,
 "nbformat_minor": 5
}

